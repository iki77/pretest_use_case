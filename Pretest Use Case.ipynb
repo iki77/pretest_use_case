{
 "cells": [
  {
   "cell_type": "code",
   "execution_count": 31,
   "metadata": {},
   "outputs": [],
   "source": [
    "import numpy as np\n",
    "import pandas as pd\n",
    "import matplotlib.pyplot as plt\n",
    "\n",
    "pd.options.display.float_format = '{:.2f}'.format\n",
    "pd.options.display.max_columns = 500\n",
    "pd.options.display.max_rows = 500"
   ]
  },
  {
   "cell_type": "code",
   "execution_count": 2,
   "metadata": {},
   "outputs": [
    {
     "data": {
      "text/html": [
       "<div>\n",
       "<style scoped>\n",
       "    .dataframe tbody tr th:only-of-type {\n",
       "        vertical-align: middle;\n",
       "    }\n",
       "\n",
       "    .dataframe tbody tr th {\n",
       "        vertical-align: top;\n",
       "    }\n",
       "\n",
       "    .dataframe thead th {\n",
       "        text-align: right;\n",
       "    }\n",
       "</style>\n",
       "<table border=\"1\" class=\"dataframe\">\n",
       "  <thead>\n",
       "    <tr style=\"text-align: right;\">\n",
       "      <th></th>\n",
       "      <th>state</th>\n",
       "      <th>account_length</th>\n",
       "      <th>area_code</th>\n",
       "      <th>phone_number</th>\n",
       "      <th>international_plan</th>\n",
       "      <th>voice_mail_plan</th>\n",
       "      <th>number_vmail_messages</th>\n",
       "      <th>total_day_minutes</th>\n",
       "      <th>total_day_calls</th>\n",
       "      <th>total_day_charge</th>\n",
       "      <th>total_eve_minutes</th>\n",
       "      <th>total_eve_calls</th>\n",
       "      <th>total_eve_charge</th>\n",
       "      <th>total_night_minutes</th>\n",
       "      <th>total_night_calls</th>\n",
       "      <th>total_night_charge</th>\n",
       "      <th>total_intl_minutes</th>\n",
       "      <th>total_intl_calls</th>\n",
       "      <th>total_intl_charge</th>\n",
       "      <th>number_customer_service_calls</th>\n",
       "      <th>class</th>\n",
       "    </tr>\n",
       "  </thead>\n",
       "  <tbody>\n",
       "    <tr>\n",
       "      <th>0</th>\n",
       "      <td>16</td>\n",
       "      <td>128</td>\n",
       "      <td>415</td>\n",
       "      <td>2845</td>\n",
       "      <td>0</td>\n",
       "      <td>1</td>\n",
       "      <td>25</td>\n",
       "      <td>265.10</td>\n",
       "      <td>110</td>\n",
       "      <td>45.07</td>\n",
       "      <td>197.40</td>\n",
       "      <td>99</td>\n",
       "      <td>16.78</td>\n",
       "      <td>244.70</td>\n",
       "      <td>91</td>\n",
       "      <td>11.01</td>\n",
       "      <td>10.00</td>\n",
       "      <td>3</td>\n",
       "      <td>2.70</td>\n",
       "      <td>1</td>\n",
       "      <td>0</td>\n",
       "    </tr>\n",
       "    <tr>\n",
       "      <th>1</th>\n",
       "      <td>35</td>\n",
       "      <td>107</td>\n",
       "      <td>415</td>\n",
       "      <td>2301</td>\n",
       "      <td>0</td>\n",
       "      <td>1</td>\n",
       "      <td>26</td>\n",
       "      <td>161.60</td>\n",
       "      <td>123</td>\n",
       "      <td>27.47</td>\n",
       "      <td>195.50</td>\n",
       "      <td>103</td>\n",
       "      <td>16.62</td>\n",
       "      <td>254.40</td>\n",
       "      <td>103</td>\n",
       "      <td>11.45</td>\n",
       "      <td>13.70</td>\n",
       "      <td>3</td>\n",
       "      <td>3.70</td>\n",
       "      <td>1</td>\n",
       "      <td>0</td>\n",
       "    </tr>\n",
       "    <tr>\n",
       "      <th>2</th>\n",
       "      <td>31</td>\n",
       "      <td>137</td>\n",
       "      <td>415</td>\n",
       "      <td>1616</td>\n",
       "      <td>0</td>\n",
       "      <td>0</td>\n",
       "      <td>0</td>\n",
       "      <td>243.40</td>\n",
       "      <td>114</td>\n",
       "      <td>41.38</td>\n",
       "      <td>121.20</td>\n",
       "      <td>110</td>\n",
       "      <td>10.30</td>\n",
       "      <td>162.60</td>\n",
       "      <td>104</td>\n",
       "      <td>7.32</td>\n",
       "      <td>12.20</td>\n",
       "      <td>5</td>\n",
       "      <td>3.29</td>\n",
       "      <td>0</td>\n",
       "      <td>0</td>\n",
       "    </tr>\n",
       "    <tr>\n",
       "      <th>3</th>\n",
       "      <td>35</td>\n",
       "      <td>84</td>\n",
       "      <td>408</td>\n",
       "      <td>2510</td>\n",
       "      <td>1</td>\n",
       "      <td>0</td>\n",
       "      <td>0</td>\n",
       "      <td>299.40</td>\n",
       "      <td>71</td>\n",
       "      <td>50.90</td>\n",
       "      <td>61.90</td>\n",
       "      <td>88</td>\n",
       "      <td>5.26</td>\n",
       "      <td>196.90</td>\n",
       "      <td>89</td>\n",
       "      <td>8.86</td>\n",
       "      <td>6.60</td>\n",
       "      <td>7</td>\n",
       "      <td>1.78</td>\n",
       "      <td>2</td>\n",
       "      <td>0</td>\n",
       "    </tr>\n",
       "    <tr>\n",
       "      <th>4</th>\n",
       "      <td>36</td>\n",
       "      <td>75</td>\n",
       "      <td>415</td>\n",
       "      <td>155</td>\n",
       "      <td>1</td>\n",
       "      <td>0</td>\n",
       "      <td>0</td>\n",
       "      <td>166.70</td>\n",
       "      <td>113</td>\n",
       "      <td>28.34</td>\n",
       "      <td>148.30</td>\n",
       "      <td>122</td>\n",
       "      <td>12.61</td>\n",
       "      <td>186.90</td>\n",
       "      <td>121</td>\n",
       "      <td>8.41</td>\n",
       "      <td>10.10</td>\n",
       "      <td>3</td>\n",
       "      <td>2.73</td>\n",
       "      <td>3</td>\n",
       "      <td>0</td>\n",
       "    </tr>\n",
       "  </tbody>\n",
       "</table>\n",
       "</div>"
      ],
      "text/plain": [
       "   state  account_length  area_code  phone_number  international_plan  \\\n",
       "0     16             128        415          2845                   0   \n",
       "1     35             107        415          2301                   0   \n",
       "2     31             137        415          1616                   0   \n",
       "3     35              84        408          2510                   1   \n",
       "4     36              75        415           155                   1   \n",
       "\n",
       "   voice_mail_plan  number_vmail_messages  total_day_minutes  total_day_calls  \\\n",
       "0                1                     25             265.10              110   \n",
       "1                1                     26             161.60              123   \n",
       "2                0                      0             243.40              114   \n",
       "3                0                      0             299.40               71   \n",
       "4                0                      0             166.70              113   \n",
       "\n",
       "   total_day_charge  total_eve_minutes  total_eve_calls  total_eve_charge  \\\n",
       "0             45.07             197.40               99             16.78   \n",
       "1             27.47             195.50              103             16.62   \n",
       "2             41.38             121.20              110             10.30   \n",
       "3             50.90              61.90               88              5.26   \n",
       "4             28.34             148.30              122             12.61   \n",
       "\n",
       "   total_night_minutes  total_night_calls  total_night_charge  \\\n",
       "0               244.70                 91               11.01   \n",
       "1               254.40                103               11.45   \n",
       "2               162.60                104                7.32   \n",
       "3               196.90                 89                8.86   \n",
       "4               186.90                121                8.41   \n",
       "\n",
       "   total_intl_minutes  total_intl_calls  total_intl_charge  \\\n",
       "0               10.00                 3               2.70   \n",
       "1               13.70                 3               3.70   \n",
       "2               12.20                 5               3.29   \n",
       "3                6.60                 7               1.78   \n",
       "4               10.10                 3               2.73   \n",
       "\n",
       "   number_customer_service_calls  class  \n",
       "0                              1      0  \n",
       "1                              1      0  \n",
       "2                              0      0  \n",
       "3                              2      0  \n",
       "4                              3      0  "
      ]
     },
     "execution_count": 2,
     "metadata": {},
     "output_type": "execute_result"
    }
   ],
   "source": [
    "churn_df = pd.read_csv('churn.csv')\n",
    "churn_df.head()"
   ]
  },
  {
   "cell_type": "code",
   "execution_count": 7,
   "metadata": {},
   "outputs": [
    {
     "data": {
      "text/plain": [
       "array([0, 1], dtype=int64)"
      ]
     },
     "execution_count": 7,
     "metadata": {},
     "output_type": "execute_result"
    }
   ],
   "source": [
    "churn_df['class'].unique()"
   ]
  },
  {
   "cell_type": "markdown",
   "metadata": {},
   "source": [
    "### Show all column name and its datatype"
   ]
  },
  {
   "cell_type": "code",
   "execution_count": 3,
   "metadata": {},
   "outputs": [
    {
     "name": "stdout",
     "output_type": "stream",
     "text": [
      "<class 'pandas.core.frame.DataFrame'>\n",
      "RangeIndex: 5000 entries, 0 to 4999\n",
      "Data columns (total 21 columns):\n",
      "state                            5000 non-null int64\n",
      "account_length                   5000 non-null int64\n",
      "area_code                        5000 non-null int64\n",
      "phone_number                     5000 non-null int64\n",
      "international_plan               5000 non-null int64\n",
      "voice_mail_plan                  5000 non-null int64\n",
      "number_vmail_messages            5000 non-null int64\n",
      "total_day_minutes                5000 non-null float64\n",
      "total_day_calls                  5000 non-null int64\n",
      "total_day_charge                 5000 non-null float64\n",
      "total_eve_minutes                5000 non-null float64\n",
      "total_eve_calls                  5000 non-null int64\n",
      "total_eve_charge                 5000 non-null float64\n",
      "total_night_minutes              5000 non-null float64\n",
      "total_night_calls                5000 non-null int64\n",
      "total_night_charge               5000 non-null float64\n",
      "total_intl_minutes               5000 non-null float64\n",
      "total_intl_calls                 5000 non-null int64\n",
      "total_intl_charge                5000 non-null float64\n",
      "number_customer_service_calls    5000 non-null int64\n",
      "class                            5000 non-null int64\n",
      "dtypes: float64(8), int64(13)\n",
      "memory usage: 820.4 KB\n"
     ]
    }
   ],
   "source": [
    "churn_df.info()"
   ]
  },
  {
   "cell_type": "markdown",
   "metadata": {},
   "source": [
    "### Check if there is any null values -> No null values"
   ]
  },
  {
   "cell_type": "code",
   "execution_count": 9,
   "metadata": {},
   "outputs": [
    {
     "data": {
      "text/plain": [
       "state                            False\n",
       "account_length                   False\n",
       "area_code                        False\n",
       "phone_number                     False\n",
       "international_plan               False\n",
       "voice_mail_plan                  False\n",
       "number_vmail_messages            False\n",
       "total_day_minutes                False\n",
       "total_day_calls                  False\n",
       "total_day_charge                 False\n",
       "total_eve_minutes                False\n",
       "total_eve_calls                  False\n",
       "total_eve_charge                 False\n",
       "total_night_minutes              False\n",
       "total_night_calls                False\n",
       "total_night_charge               False\n",
       "total_intl_minutes               False\n",
       "total_intl_calls                 False\n",
       "total_intl_charge                False\n",
       "number_customer_service_calls    False\n",
       "class                            False\n",
       "dtype: bool"
      ]
     },
     "execution_count": 9,
     "metadata": {},
     "output_type": "execute_result"
    }
   ],
   "source": [
    "churn_df.isna().any()"
   ]
  },
  {
   "cell_type": "markdown",
   "metadata": {},
   "source": [
    "### Check if there is any duplicate rows -? No duplicate rows"
   ]
  },
  {
   "cell_type": "code",
   "execution_count": 13,
   "metadata": {},
   "outputs": [
    {
     "data": {
      "text/html": [
       "<div>\n",
       "<style scoped>\n",
       "    .dataframe tbody tr th:only-of-type {\n",
       "        vertical-align: middle;\n",
       "    }\n",
       "\n",
       "    .dataframe tbody tr th {\n",
       "        vertical-align: top;\n",
       "    }\n",
       "\n",
       "    .dataframe thead th {\n",
       "        text-align: right;\n",
       "    }\n",
       "</style>\n",
       "<table border=\"1\" class=\"dataframe\">\n",
       "  <thead>\n",
       "    <tr style=\"text-align: right;\">\n",
       "      <th></th>\n",
       "      <th>state</th>\n",
       "      <th>account_length</th>\n",
       "      <th>area_code</th>\n",
       "      <th>phone_number</th>\n",
       "      <th>international_plan</th>\n",
       "      <th>voice_mail_plan</th>\n",
       "      <th>number_vmail_messages</th>\n",
       "      <th>total_day_minutes</th>\n",
       "      <th>total_day_calls</th>\n",
       "      <th>total_day_charge</th>\n",
       "      <th>total_eve_minutes</th>\n",
       "      <th>total_eve_calls</th>\n",
       "      <th>total_eve_charge</th>\n",
       "      <th>total_night_minutes</th>\n",
       "      <th>total_night_calls</th>\n",
       "      <th>total_night_charge</th>\n",
       "      <th>total_intl_minutes</th>\n",
       "      <th>total_intl_calls</th>\n",
       "      <th>total_intl_charge</th>\n",
       "      <th>number_customer_service_calls</th>\n",
       "      <th>class</th>\n",
       "    </tr>\n",
       "  </thead>\n",
       "  <tbody>\n",
       "  </tbody>\n",
       "</table>\n",
       "</div>"
      ],
      "text/plain": [
       "Empty DataFrame\n",
       "Columns: [state, account_length, area_code, phone_number, international_plan, voice_mail_plan, number_vmail_messages, total_day_minutes, total_day_calls, total_day_charge, total_eve_minutes, total_eve_calls, total_eve_charge, total_night_minutes, total_night_calls, total_night_charge, total_intl_minutes, total_intl_calls, total_intl_charge, number_customer_service_calls, class]\n",
       "Index: []"
      ]
     },
     "execution_count": 13,
     "metadata": {},
     "output_type": "execute_result"
    }
   ],
   "source": [
    "churn_df[churn_df.duplicated()]"
   ]
  },
  {
   "cell_type": "markdown",
   "metadata": {},
   "source": [
    "### Show the statistics of each columns"
   ]
  },
  {
   "cell_type": "code",
   "execution_count": 8,
   "metadata": {},
   "outputs": [
    {
     "data": {
      "text/html": [
       "<div>\n",
       "<style scoped>\n",
       "    .dataframe tbody tr th:only-of-type {\n",
       "        vertical-align: middle;\n",
       "    }\n",
       "\n",
       "    .dataframe tbody tr th {\n",
       "        vertical-align: top;\n",
       "    }\n",
       "\n",
       "    .dataframe thead th {\n",
       "        text-align: right;\n",
       "    }\n",
       "</style>\n",
       "<table border=\"1\" class=\"dataframe\">\n",
       "  <thead>\n",
       "    <tr style=\"text-align: right;\">\n",
       "      <th></th>\n",
       "      <th>state</th>\n",
       "      <th>account_length</th>\n",
       "      <th>area_code</th>\n",
       "      <th>phone_number</th>\n",
       "      <th>international_plan</th>\n",
       "      <th>voice_mail_plan</th>\n",
       "      <th>number_vmail_messages</th>\n",
       "      <th>total_day_minutes</th>\n",
       "      <th>total_day_calls</th>\n",
       "      <th>total_day_charge</th>\n",
       "      <th>total_eve_minutes</th>\n",
       "      <th>total_eve_calls</th>\n",
       "      <th>total_eve_charge</th>\n",
       "      <th>total_night_minutes</th>\n",
       "      <th>total_night_calls</th>\n",
       "      <th>total_night_charge</th>\n",
       "      <th>total_intl_minutes</th>\n",
       "      <th>total_intl_calls</th>\n",
       "      <th>total_intl_charge</th>\n",
       "      <th>number_customer_service_calls</th>\n",
       "      <th>class</th>\n",
       "    </tr>\n",
       "  </thead>\n",
       "  <tbody>\n",
       "    <tr>\n",
       "      <th>count</th>\n",
       "      <td>5000.00</td>\n",
       "      <td>5000.00</td>\n",
       "      <td>5000.00</td>\n",
       "      <td>5000.00</td>\n",
       "      <td>5000.00</td>\n",
       "      <td>5000.00</td>\n",
       "      <td>5000.00</td>\n",
       "      <td>5000.00</td>\n",
       "      <td>5000.00</td>\n",
       "      <td>5000.00</td>\n",
       "      <td>5000.00</td>\n",
       "      <td>5000.00</td>\n",
       "      <td>5000.00</td>\n",
       "      <td>5000.00</td>\n",
       "      <td>5000.00</td>\n",
       "      <td>5000.00</td>\n",
       "      <td>5000.00</td>\n",
       "      <td>5000.00</td>\n",
       "      <td>5000.00</td>\n",
       "      <td>5000.00</td>\n",
       "      <td>5000.00</td>\n",
       "    </tr>\n",
       "    <tr>\n",
       "      <th>mean</th>\n",
       "      <td>26.00</td>\n",
       "      <td>100.26</td>\n",
       "      <td>436.91</td>\n",
       "      <td>2499.50</td>\n",
       "      <td>0.09</td>\n",
       "      <td>0.26</td>\n",
       "      <td>7.76</td>\n",
       "      <td>180.29</td>\n",
       "      <td>100.03</td>\n",
       "      <td>30.65</td>\n",
       "      <td>200.64</td>\n",
       "      <td>100.19</td>\n",
       "      <td>17.05</td>\n",
       "      <td>200.39</td>\n",
       "      <td>99.92</td>\n",
       "      <td>9.02</td>\n",
       "      <td>10.26</td>\n",
       "      <td>4.44</td>\n",
       "      <td>2.77</td>\n",
       "      <td>1.57</td>\n",
       "      <td>0.14</td>\n",
       "    </tr>\n",
       "    <tr>\n",
       "      <th>std</th>\n",
       "      <td>14.80</td>\n",
       "      <td>39.69</td>\n",
       "      <td>42.21</td>\n",
       "      <td>1443.52</td>\n",
       "      <td>0.29</td>\n",
       "      <td>0.44</td>\n",
       "      <td>13.55</td>\n",
       "      <td>53.89</td>\n",
       "      <td>19.83</td>\n",
       "      <td>9.16</td>\n",
       "      <td>50.55</td>\n",
       "      <td>19.83</td>\n",
       "      <td>4.30</td>\n",
       "      <td>50.53</td>\n",
       "      <td>19.96</td>\n",
       "      <td>2.27</td>\n",
       "      <td>2.76</td>\n",
       "      <td>2.46</td>\n",
       "      <td>0.75</td>\n",
       "      <td>1.31</td>\n",
       "      <td>0.35</td>\n",
       "    </tr>\n",
       "    <tr>\n",
       "      <th>min</th>\n",
       "      <td>0.00</td>\n",
       "      <td>1.00</td>\n",
       "      <td>408.00</td>\n",
       "      <td>0.00</td>\n",
       "      <td>0.00</td>\n",
       "      <td>0.00</td>\n",
       "      <td>0.00</td>\n",
       "      <td>0.00</td>\n",
       "      <td>0.00</td>\n",
       "      <td>0.00</td>\n",
       "      <td>0.00</td>\n",
       "      <td>0.00</td>\n",
       "      <td>0.00</td>\n",
       "      <td>0.00</td>\n",
       "      <td>0.00</td>\n",
       "      <td>0.00</td>\n",
       "      <td>0.00</td>\n",
       "      <td>0.00</td>\n",
       "      <td>0.00</td>\n",
       "      <td>0.00</td>\n",
       "      <td>0.00</td>\n",
       "    </tr>\n",
       "    <tr>\n",
       "      <th>25%</th>\n",
       "      <td>13.00</td>\n",
       "      <td>73.00</td>\n",
       "      <td>408.00</td>\n",
       "      <td>1249.75</td>\n",
       "      <td>0.00</td>\n",
       "      <td>0.00</td>\n",
       "      <td>0.00</td>\n",
       "      <td>143.70</td>\n",
       "      <td>87.00</td>\n",
       "      <td>24.43</td>\n",
       "      <td>166.38</td>\n",
       "      <td>87.00</td>\n",
       "      <td>14.14</td>\n",
       "      <td>166.90</td>\n",
       "      <td>87.00</td>\n",
       "      <td>7.51</td>\n",
       "      <td>8.50</td>\n",
       "      <td>3.00</td>\n",
       "      <td>2.30</td>\n",
       "      <td>1.00</td>\n",
       "      <td>0.00</td>\n",
       "    </tr>\n",
       "    <tr>\n",
       "      <th>50%</th>\n",
       "      <td>26.00</td>\n",
       "      <td>100.00</td>\n",
       "      <td>415.00</td>\n",
       "      <td>2499.50</td>\n",
       "      <td>0.00</td>\n",
       "      <td>0.00</td>\n",
       "      <td>0.00</td>\n",
       "      <td>180.10</td>\n",
       "      <td>100.00</td>\n",
       "      <td>30.62</td>\n",
       "      <td>201.00</td>\n",
       "      <td>100.00</td>\n",
       "      <td>17.09</td>\n",
       "      <td>200.40</td>\n",
       "      <td>100.00</td>\n",
       "      <td>9.02</td>\n",
       "      <td>10.30</td>\n",
       "      <td>4.00</td>\n",
       "      <td>2.78</td>\n",
       "      <td>1.00</td>\n",
       "      <td>0.00</td>\n",
       "    </tr>\n",
       "    <tr>\n",
       "      <th>75%</th>\n",
       "      <td>39.00</td>\n",
       "      <td>127.00</td>\n",
       "      <td>415.00</td>\n",
       "      <td>3749.25</td>\n",
       "      <td>0.00</td>\n",
       "      <td>1.00</td>\n",
       "      <td>17.00</td>\n",
       "      <td>216.20</td>\n",
       "      <td>113.00</td>\n",
       "      <td>36.75</td>\n",
       "      <td>234.10</td>\n",
       "      <td>114.00</td>\n",
       "      <td>19.90</td>\n",
       "      <td>234.70</td>\n",
       "      <td>113.00</td>\n",
       "      <td>10.56</td>\n",
       "      <td>12.00</td>\n",
       "      <td>6.00</td>\n",
       "      <td>3.24</td>\n",
       "      <td>2.00</td>\n",
       "      <td>0.00</td>\n",
       "    </tr>\n",
       "    <tr>\n",
       "      <th>max</th>\n",
       "      <td>50.00</td>\n",
       "      <td>243.00</td>\n",
       "      <td>510.00</td>\n",
       "      <td>4999.00</td>\n",
       "      <td>1.00</td>\n",
       "      <td>1.00</td>\n",
       "      <td>52.00</td>\n",
       "      <td>351.50</td>\n",
       "      <td>165.00</td>\n",
       "      <td>59.76</td>\n",
       "      <td>363.70</td>\n",
       "      <td>170.00</td>\n",
       "      <td>30.91</td>\n",
       "      <td>395.00</td>\n",
       "      <td>175.00</td>\n",
       "      <td>17.77</td>\n",
       "      <td>20.00</td>\n",
       "      <td>20.00</td>\n",
       "      <td>5.40</td>\n",
       "      <td>9.00</td>\n",
       "      <td>1.00</td>\n",
       "    </tr>\n",
       "  </tbody>\n",
       "</table>\n",
       "</div>"
      ],
      "text/plain": [
       "        state  account_length  area_code  phone_number  international_plan  \\\n",
       "count 5000.00         5000.00    5000.00       5000.00             5000.00   \n",
       "mean    26.00          100.26     436.91       2499.50                0.09   \n",
       "std     14.80           39.69      42.21       1443.52                0.29   \n",
       "min      0.00            1.00     408.00          0.00                0.00   \n",
       "25%     13.00           73.00     408.00       1249.75                0.00   \n",
       "50%     26.00          100.00     415.00       2499.50                0.00   \n",
       "75%     39.00          127.00     415.00       3749.25                0.00   \n",
       "max     50.00          243.00     510.00       4999.00                1.00   \n",
       "\n",
       "       voice_mail_plan  number_vmail_messages  total_day_minutes  \\\n",
       "count          5000.00                5000.00            5000.00   \n",
       "mean              0.26                   7.76             180.29   \n",
       "std               0.44                  13.55              53.89   \n",
       "min               0.00                   0.00               0.00   \n",
       "25%               0.00                   0.00             143.70   \n",
       "50%               0.00                   0.00             180.10   \n",
       "75%               1.00                  17.00             216.20   \n",
       "max               1.00                  52.00             351.50   \n",
       "\n",
       "       total_day_calls  total_day_charge  total_eve_minutes  total_eve_calls  \\\n",
       "count          5000.00           5000.00            5000.00          5000.00   \n",
       "mean            100.03             30.65             200.64           100.19   \n",
       "std              19.83              9.16              50.55            19.83   \n",
       "min               0.00              0.00               0.00             0.00   \n",
       "25%              87.00             24.43             166.38            87.00   \n",
       "50%             100.00             30.62             201.00           100.00   \n",
       "75%             113.00             36.75             234.10           114.00   \n",
       "max             165.00             59.76             363.70           170.00   \n",
       "\n",
       "       total_eve_charge  total_night_minutes  total_night_calls  \\\n",
       "count           5000.00              5000.00            5000.00   \n",
       "mean              17.05               200.39              99.92   \n",
       "std                4.30                50.53              19.96   \n",
       "min                0.00                 0.00               0.00   \n",
       "25%               14.14               166.90              87.00   \n",
       "50%               17.09               200.40             100.00   \n",
       "75%               19.90               234.70             113.00   \n",
       "max               30.91               395.00             175.00   \n",
       "\n",
       "       total_night_charge  total_intl_minutes  total_intl_calls  \\\n",
       "count             5000.00             5000.00           5000.00   \n",
       "mean                 9.02               10.26              4.44   \n",
       "std                  2.27                2.76              2.46   \n",
       "min                  0.00                0.00              0.00   \n",
       "25%                  7.51                8.50              3.00   \n",
       "50%                  9.02               10.30              4.00   \n",
       "75%                 10.56               12.00              6.00   \n",
       "max                 17.77               20.00             20.00   \n",
       "\n",
       "       total_intl_charge  number_customer_service_calls   class  \n",
       "count            5000.00                        5000.00 5000.00  \n",
       "mean                2.77                           1.57    0.14  \n",
       "std                 0.75                           1.31    0.35  \n",
       "min                 0.00                           0.00    0.00  \n",
       "25%                 2.30                           1.00    0.00  \n",
       "50%                 2.78                           1.00    0.00  \n",
       "75%                 3.24                           2.00    0.00  \n",
       "max                 5.40                           9.00    1.00  "
      ]
     },
     "execution_count": 8,
     "metadata": {},
     "output_type": "execute_result"
    }
   ],
   "source": [
    "churn_df.describe()"
   ]
  },
  {
   "cell_type": "markdown",
   "metadata": {},
   "source": [
    "### 1. Show how many customers that churn -> There are 707 subcribers that churn out of 5000 subcriber samples"
   ]
  },
  {
   "cell_type": "code",
   "execution_count": 28,
   "metadata": {},
   "outputs": [
    {
     "data": {
      "text/html": [
       "<div>\n",
       "<style scoped>\n",
       "    .dataframe tbody tr th:only-of-type {\n",
       "        vertical-align: middle;\n",
       "    }\n",
       "\n",
       "    .dataframe tbody tr th {\n",
       "        vertical-align: top;\n",
       "    }\n",
       "\n",
       "    .dataframe thead th {\n",
       "        text-align: right;\n",
       "    }\n",
       "</style>\n",
       "<table border=\"1\" class=\"dataframe\">\n",
       "  <thead>\n",
       "    <tr style=\"text-align: right;\">\n",
       "      <th></th>\n",
       "      <th>Stay</th>\n",
       "      <th>Churned</th>\n",
       "    </tr>\n",
       "  </thead>\n",
       "  <tbody>\n",
       "    <tr>\n",
       "      <th>class</th>\n",
       "      <td>4293</td>\n",
       "      <td>707</td>\n",
       "    </tr>\n",
       "  </tbody>\n",
       "</table>\n",
       "</div>"
      ],
      "text/plain": [
       "       Stay  Churned\n",
       "class  4293      707"
      ]
     },
     "execution_count": 28,
     "metadata": {},
     "output_type": "execute_result"
    }
   ],
   "source": [
    "summary_df = pd.DataFrame(churn_df['class'].replace([0, 1], ['Stay', 'Churned']).value_counts())\n",
    "summary_df = summary_df.T\n",
    "summary_df"
   ]
  },
  {
   "cell_type": "markdown",
   "metadata": {},
   "source": [
    "### 2. Calculate churn rate -> The churn rate of the sample is 14%"
   ]
  },
  {
   "cell_type": "code",
   "execution_count": 29,
   "metadata": {},
   "outputs": [
    {
     "data": {
      "text/html": [
       "<div>\n",
       "<style scoped>\n",
       "    .dataframe tbody tr th:only-of-type {\n",
       "        vertical-align: middle;\n",
       "    }\n",
       "\n",
       "    .dataframe tbody tr th {\n",
       "        vertical-align: top;\n",
       "    }\n",
       "\n",
       "    .dataframe thead th {\n",
       "        text-align: right;\n",
       "    }\n",
       "</style>\n",
       "<table border=\"1\" class=\"dataframe\">\n",
       "  <thead>\n",
       "    <tr style=\"text-align: right;\">\n",
       "      <th></th>\n",
       "      <th>Stay</th>\n",
       "      <th>Churned</th>\n",
       "      <th>Churn Rate</th>\n",
       "    </tr>\n",
       "  </thead>\n",
       "  <tbody>\n",
       "    <tr>\n",
       "      <th>class</th>\n",
       "      <td>4293</td>\n",
       "      <td>707</td>\n",
       "      <td>0.14</td>\n",
       "    </tr>\n",
       "  </tbody>\n",
       "</table>\n",
       "</div>"
      ],
      "text/plain": [
       "       Stay  Churned  Churn Rate\n",
       "class  4293      707        0.14"
      ]
     },
     "execution_count": 29,
     "metadata": {},
     "output_type": "execute_result"
    }
   ],
   "source": [
    "summary_df['Churn Rate'] = summary_df['Churned']/(summary_df['Stay']+summary_df['Churned'])\n",
    "summary_df"
   ]
  },
  {
   "cell_type": "markdown",
   "metadata": {},
   "source": [
    "### 3. Show the correlation coefficient of class -> International plan, Num of Customer Service Calls, Total Day Minutes and Total Day Charge have slightly strong relationship with Churn status"
   ]
  },
  {
   "cell_type": "code",
   "execution_count": 30,
   "metadata": {},
   "outputs": [
    {
     "data": {
      "text/plain": [
       "class                            1.00\n",
       "international_plan               0.26\n",
       "number_customer_service_calls    0.21\n",
       "total_day_minutes                0.21\n",
       "total_day_charge                 0.21\n",
       "total_eve_minutes                0.09\n",
       "total_eve_charge                 0.09\n",
       "total_intl_minutes               0.06\n",
       "total_intl_charge                0.06\n",
       "total_night_minutes              0.05\n",
       "total_night_charge               0.05\n",
       "account_length                   0.02\n",
       "total_day_calls                  0.02\n",
       "phone_number                     0.01\n",
       "area_code                        0.01\n",
       "state                            0.01\n",
       "total_eve_calls                 -0.01\n",
       "total_night_calls               -0.01\n",
       "total_intl_calls                -0.05\n",
       "number_vmail_messages           -0.10\n",
       "voice_mail_plan                 -0.11\n",
       "Name: class, dtype: float64"
      ]
     },
     "execution_count": 30,
     "metadata": {},
     "output_type": "execute_result"
    }
   ],
   "source": [
    "churn_df.corr('pearson')['class'].sort_values(ascending=False)"
   ]
  },
  {
   "cell_type": "markdown",
   "metadata": {},
   "source": [
    "### 4. Average number of customer service calls between staying and churned customers"
   ]
  },
  {
   "cell_type": "code",
   "execution_count": 44,
   "metadata": {},
   "outputs": [
    {
     "data": {
      "text/plain": [
       "class\n",
       "0   1.46\n",
       "1   2.25\n",
       "Name: number_customer_service_calls, dtype: float64"
      ]
     },
     "execution_count": 44,
     "metadata": {},
     "output_type": "execute_result"
    }
   ],
   "source": [
    "avg_customer_call = churn_df.groupby(by=['class'])['number_customer_service_calls'].mean()\n",
    "avg_customer_call"
   ]
  },
  {
   "cell_type": "code",
   "execution_count": 50,
   "metadata": {},
   "outputs": [
    {
     "data": {
      "image/png": "[encoded data removed]",
      "text/plain": [
       "<Figure size 432x288 with 1 Axes>"
      ]
     },
     "metadata": {
      "needs_background": "light"
     },
     "output_type": "display_data"
    }
   ],
   "source": [
    "objects = ('Staying Subs', 'Churned Subs')\n",
    "y_pos = np.arange(len(objects))\n",
    "customer_calls = avg_customer_call.T.values\n",
    "\n",
    "plt.bar(y_pos, customer_calls, align='center', alpha=0.5)\n",
    "plt.xticks(y_pos, objects)\n",
    "plt.ylabel('Number of customer calls')\n",
    "plt.title('Average number of customer calls')\n",
    "\n",
    "plt.show()"
   ]
  },
  {
   "cell_type": "markdown",
   "metadata": {},
   "source": [
    "### 5. Average total day minutes between staying and churned customers"
   ]
  },
  {
   "cell_type": "code",
   "execution_count": 54,
   "metadata": {},
   "outputs": [
    {
     "data": {
      "text/plain": [
       "class\n",
       "0   175.75\n",
       "1   207.87\n",
       "Name: total_day_minutes, dtype: float64"
      ]
     },
     "execution_count": 54,
     "metadata": {},
     "output_type": "execute_result"
    }
   ],
   "source": [
    "avg_total_day_minutes = churn_df.groupby(by=['class'])['total_day_minutes'].mean()\n",
    "avg_total_day_minutes"
   ]
  },
  {
   "cell_type": "code",
   "execution_count": 56,
   "metadata": {},
   "outputs": [
    {
     "data": {
      "image/png": "[encoded data removed]",
      "text/plain": [
       "<Figure size 432x288 with 1 Axes>"
      ]
     },
     "metadata": {
      "needs_background": "light"
     },
     "output_type": "display_data"
    }
   ],
   "source": [
    "objects = ('Staying Subs', 'Churned Subs')\n",
    "y_pos = np.arange(len(objects))\n",
    "total_day_minutes = avg_total_day_minutes.T.values\n",
    "\n",
    "plt.bar(y_pos, total_day_minutes, align='center', alpha=0.5)\n",
    "plt.xticks(y_pos, objects)\n",
    "plt.ylabel('Total day minutes')\n",
    "plt.title('Average total day minutes')\n",
    "\n",
    "plt.show()"
   ]
  }
 ],
 "metadata": {
  "kernelspec": {
   "display_name": "Python 3",
   "language": "python",
   "name": "python3"
  },
  "language_info": {
   "codemirror_mode": {
    "name": "ipython",
    "version": 3
   },
   "file_extension": ".py",
   "mimetype": "text/x-python",
   "name": "python",
   "nbconvert_exporter": "python",
   "pygments_lexer": "ipython3",
   "version": "3.7.3"
  }
 },
 "nbformat": 4,
 "nbformat_minor": 4
}
